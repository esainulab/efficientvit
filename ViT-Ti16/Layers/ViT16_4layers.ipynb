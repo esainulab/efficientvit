{
  "cells": [
    {
      "cell_type": "code",
      "execution_count": 1,
      "id": "JP3clKIakEmc",
      "metadata": {
        "colab": {
          "base_uri": "https://localhost:8080/"
        },
        "id": "JP3clKIakEmc",
        "outputId": "59422653-50c3-4b59-bf1b-923965dbee83"
      },
      "outputs": [
        {
          "output_type": "stream",
          "name": "stdout",
          "text": [
            "Collecting tensorflow_addons\n",
            "  Downloading tensorflow_addons-0.21.0-cp310-cp310-manylinux_2_17_x86_64.manylinux2014_x86_64.whl (612 kB)\n",
            "\u001b[?25l     \u001b[90m━━━━━━━━━━━━━━━━━━━━━━━━━━━━━━━━━━━━━━━━\u001b[0m \u001b[32m0.0/612.1 kB\u001b[0m \u001b[31m?\u001b[0m eta \u001b[36m-:--:--\u001b[0m\r\u001b[2K     \u001b[90m━━━━━━━━━━━━━━━━━━━━━━━━━━━━━━━━━━━━━━\u001b[0m \u001b[32m612.1/612.1 kB\u001b[0m \u001b[31m28.0 MB/s\u001b[0m eta \u001b[36m0:00:00\u001b[0m\n",
            "\u001b[?25hRequirement already satisfied: packaging in /usr/local/lib/python3.10/dist-packages (from tensorflow_addons) (23.1)\n",
            "Collecting typeguard<3.0.0,>=2.7 (from tensorflow_addons)\n",
            "  Downloading typeguard-2.13.3-py3-none-any.whl (17 kB)\n",
            "Installing collected packages: typeguard, tensorflow_addons\n",
            "Successfully installed tensorflow_addons-0.21.0 typeguard-2.13.3\n"
          ]
        }
      ],
      "source": [
        "!pip install tensorflow_addons"
      ]
    },
    {
      "cell_type": "code",
      "execution_count": 2,
      "id": "0e24354c",
      "metadata": {
        "colab": {
          "base_uri": "https://localhost:8080/"
        },
        "id": "0e24354c",
        "outputId": "21357ecb-4049-4dd1-9282-5080fc3915d5",
        "scrolled": false
      },
      "outputs": [
        {
          "output_type": "stream",
          "name": "stderr",
          "text": [
            "/usr/local/lib/python3.10/dist-packages/tensorflow_addons/utils/tfa_eol_msg.py:23: UserWarning: \n",
            "\n",
            "TensorFlow Addons (TFA) has ended development and introduction of new features.\n",
            "TFA has entered a minimal maintenance and release mode until a planned end of life in May 2024.\n",
            "Please modify downstream libraries to take dependencies from other repositories in our TensorFlow community (e.g. Keras, Keras-CV, and Keras-NLP). \n",
            "\n",
            "For more information see: https://github.com/tensorflow/addons/issues/2807 \n",
            "\n",
            "  warnings.warn(\n"
          ]
        }
      ],
      "source": [
        "import tensorflow as tf\n",
        "import tensorflow_addons as tfa\n",
        "from tensorflow import keras\n",
        "import scipy\n",
        "\n",
        "from tensorflow.keras import optimizers\n",
        "\n",
        "from tensorflow.keras.datasets import cifar10\n",
        "from tensorflow.keras.utils import to_categorical\n",
        "from tensorflow.keras.preprocessing.image import ImageDataGenerator\n",
        "from tensorflow.keras.models import Model\n",
        "from tensorflow.keras.callbacks import ReduceLROnPlateau\n",
        "from tensorflow.keras.layers import Input, Flatten, BatchNormalization, Dense\n",
        "from tensorflow.keras.callbacks import ModelCheckpoint\n",
        "\n",
        "from sklearn.model_selection import train_test_split\n",
        "from sklearn.metrics import accuracy_score\n",
        "\n",
        "import numpy as np\n",
        "import matplotlib.pyplot as plt\n",
        "import gc"
      ]
    },
    {
      "cell_type": "code",
      "execution_count": 3,
      "id": "a51a27b9",
      "metadata": {
        "id": "a51a27b9"
      },
      "outputs": [],
      "source": [
        "gpus = tf.config.list_physical_devices('GPU')\n",
        "if gpus:\n",
        "    for gpu in gpus:\n",
        "        tf.config.experimental.set_memory_growth(gpu,True)"
      ]
    },
    {
      "cell_type": "code",
      "execution_count": 4,
      "id": "9d34ead5",
      "metadata": {
        "id": "9d34ead5"
      },
      "outputs": [],
      "source": [
        "seed = 2022\n",
        "np.random.seed(seed)\n",
        "tf.random.set_seed(seed)"
      ]
    },
    {
      "cell_type": "code",
      "execution_count": 5,
      "id": "96e487c1",
      "metadata": {
        "colab": {
          "base_uri": "https://localhost:8080/"
        },
        "id": "96e487c1",
        "outputId": "bd66cf63-e15d-46c0-dbf2-1094e7c01fca"
      },
      "outputs": [
        {
          "output_type": "stream",
          "name": "stdout",
          "text": [
            "Downloading data from https://www.cs.toronto.edu/~kriz/cifar-10-python.tar.gz\n",
            "170498071/170498071 [==============================] - 13s 0us/step\n"
          ]
        }
      ],
      "source": [
        "(train_data, train_label), (test_data, test_label) = cifar10.load_data()\n",
        "train_label = to_categorical(train_label)\n",
        "test_label = to_categorical(test_label)\n",
        "train_data = (train_data/255.).astype(\"float32\")\n",
        "test_data = (test_data/255.).astype(\"float32\")"
      ]
    },
    {
      "cell_type": "code",
      "execution_count": 6,
      "id": "417e5ec3",
      "metadata": {
        "id": "417e5ec3"
      },
      "outputs": [],
      "source": [
        "X_train, X_valid, y_train, y_valid = train_test_split(train_data,train_label,random_state=seed,shuffle=True,train_size=0.9)"
      ]
    },
    {
      "cell_type": "code",
      "execution_count": 7,
      "id": "8c80b920",
      "metadata": {
        "id": "8c80b920"
      },
      "outputs": [],
      "source": [
        "\n",
        "batch_size = 32\n",
        "datagen = ImageDataGenerator(rotation_range=15,\n",
        "                             width_shift_range=0.2,\n",
        "                             zoom_range=0.2,\n",
        "                             horizontal_flip=True,\n",
        "                             height_shift_range=0.2,\n",
        "                             shear_range=0.2\n",
        "                            )\n",
        "\n",
        "train_generator = datagen.flow(X_train, y_train, batch_size=batch_size)"
      ]
    },
    {
      "cell_type": "code",
      "execution_count": 8,
      "id": "a5b23ca9",
      "metadata": {
        "id": "a5b23ca9"
      },
      "outputs": [],
      "source": [
        "checkpoint_vit = ModelCheckpoint(r'C:\\Users\\fano\\Desktop\\weights\\vit4_6.h5',\n",
        "    verbose=1,\n",
        "    monitor='val_loss',\n",
        "    save_best_only=True,\n",
        "    mode='auto'\n",
        ")"
      ]
    },
    {
      "cell_type": "code",
      "execution_count": 9,
      "id": "4ac41408",
      "metadata": {
        "id": "4ac41408"
      },
      "outputs": [],
      "source": [
        "class PatchEmbedding(tf.keras.layers.Layer):\n",
        "  def __init__(self , size , num_of_patches , projection_dim):\n",
        "    super().__init__()\n",
        "\n",
        "    self.size=size\n",
        "    self.num_of_patches= num_of_patches + 1\n",
        "    self.projection_dim=projection_dim\n",
        "\n",
        "    self.projection=tf.keras.layers.Dense(projection_dim)\n",
        "\n",
        "    self.clsToken= tf.Variable(tf.keras.initializers.GlorotNormal()(shape=(1 , 1 , projection_dim)) , trainable=True)\n",
        "    self.positionalEmbedding = tf.keras.layers.Embedding(self.num_of_patches , projection_dim)\n",
        "\n",
        "\n",
        "  def call(self, inputs):\n",
        "    patches = tf.image.extract_patches(inputs ,\n",
        "                                       sizes=[1 , self.size , self.size , 1],\n",
        "                                       strides=[1 , self.size , self.size , 1],\n",
        "                                       rates=[1 ,1 ,1 ,1],\n",
        "                                       padding=\"VALID\",)\n",
        "    patches=tf.reshape(patches, (tf.shape(inputs)[0], -1, self.size * self.size *3))\n",
        "    patches= self.projection(patches)\n",
        "\n",
        "    # repeat cls token length of batch size\n",
        "    clsToken = tf.repeat(self.clsToken , tf.shape(inputs)[0] , 0)\n",
        "    patches = tf.concat((clsToken, patches) , axis=1)\n",
        "    # create position number for each patch\n",
        "    positions = tf.range(0 , self.num_of_patches , 1)[tf.newaxis , ...]\n",
        "    positionalEmbedding = self.positionalEmbedding(positions)\n",
        "\n",
        "    #print(positionalEmbedding)\n",
        "    patches= patches + positionalEmbedding\n",
        "    return patches\n"
      ]
    },
    {
      "cell_type": "code",
      "execution_count": 10,
      "id": "a44dbf4a",
      "metadata": {
        "id": "a44dbf4a"
      },
      "outputs": [],
      "source": [
        "class TransformerLayer(tf.keras.layers.Layer):\n",
        "  def __init__(self , d_model , heads , mlp_rate , dropout_rate=0.1):\n",
        "    super().__init__()\n",
        "\n",
        "    self.layernorm_1 = tf.keras.layers.LayerNormalization(epsilon=1e-6)\n",
        "    self.mha= tf.keras.layers.MultiHeadAttention(heads, d_model//heads , dropout=dropout_rate)\n",
        "\n",
        "    self.layernorm_2 = tf.keras.layers.LayerNormalization(epsilon=1e-6)\n",
        "    self.mlp = tf.keras.Sequential([\n",
        "                                    tf.keras.layers.Dense(d_model * mlp_rate , activation=\"gelu\"),\n",
        "                                    tf.keras.layers.Dropout(dropout_rate),\n",
        "                                    tf.keras.layers.Dense(d_model , activation=\"gelu\"),\n",
        "                                    tf.keras.layers.Dropout(dropout_rate)\n",
        "    ])\n",
        "  def call(self , inputs , training=True):\n",
        "    out_1 = self.layernorm_1(inputs)\n",
        "    out_1 = self.mha(out_1 , out_1 ,training=training)\n",
        "    out_1 = inputs + out_1\n",
        "\n",
        "    out_2= self.layernorm_2(out_1)\n",
        "    out_2=self.mlp(out_2 , training=training)\n",
        "    out_2 = out_1 + out_2\n",
        "\n",
        "    return out_2\n"
      ]
    },
    {
      "cell_type": "code",
      "execution_count": 11,
      "id": "aa68b5d3",
      "metadata": {
        "id": "aa68b5d3"
      },
      "outputs": [],
      "source": [
        "class TransformerEncoder(tf.keras.layers.Layer):\n",
        "  def __init__(self , d_model , heads , mlp_rate , num_layers=1 , dropout_rate=0.1):\n",
        "    super().__init__()\n",
        "\n",
        "    self.encoders = [TransformerLayer(d_model , heads , mlp_rate , dropout_rate) for _ in range(num_layers)]\n",
        "\n",
        "  def call(self , inputs , training=True):\n",
        "    x =inputs\n",
        "\n",
        "    for layer in self.encoders:\n",
        "      x = layer(x , training=training)\n",
        "\n",
        "    return x\n"
      ]
    },
    {
      "cell_type": "code",
      "execution_count": 12,
      "id": "021c5050",
      "metadata": {
        "id": "021c5050"
      },
      "outputs": [],
      "source": [
        "class ViT(tf.keras.Model):\n",
        "  def __init__(self , num_classes , patch_size , num_of_patches , d_model , heads , num_layers , mlp_rate , dropout_rate=0.1):\n",
        "    super().__init__()\n",
        "\n",
        "    self.patchEmbedding = PatchEmbedding(patch_size , num_of_patches , d_model)\n",
        "    self.encoder = TransformerEncoder(d_model , heads , mlp_rate  ,num_layers , dropout_rate)\n",
        "\n",
        "    self.prediction = tf.keras.Sequential([\n",
        "                                           tf.keras.layers.Dropout(0.3),\n",
        "                                           tf.keras.layers.Dense(mlp_rate * d_model , activation=\"gelu\"),\n",
        "                                           tf.keras.layers.Dropout(0.2),\n",
        "                                           tf.keras.layers.Dense(num_classes, activation=\"softmax\")\n",
        "\n",
        "\n",
        "  ])\n",
        "  def call(self , inputs ,  training=True):\n",
        "    patches = self.patchEmbedding(inputs)\n",
        "    encoderResult = self.encoder(patches, training=training)\n",
        "\n",
        "    clsResult = encoderResult[: , 0 , :]\n",
        "\n",
        "    prediction = self.prediction(clsResult,\n",
        "                                 training=training)\n",
        "    return prediction\n"
      ]
    },
    {
      "cell_type": "code",
      "execution_count": 13,
      "id": "db0f5e6d",
      "metadata": {
        "id": "db0f5e6d"
      },
      "outputs": [],
      "source": [
        "# def scheduler(epoch, lr):\n",
        "#     if epoch < 10:\n",
        "#         return lr\n",
        "#     else:\n",
        "#         if epoch % 2:\n",
        "#             return lr * tf.math.exp(-0.1)\n",
        "#         else:\n",
        "#             return lr\n",
        "\n",
        "# callback = tf.keras.callbacks.LearningRateScheduler(scheduler)"
      ]
    },
    {
      "cell_type": "code",
      "execution_count": 14,
      "id": "ec4566be",
      "metadata": {
        "id": "ec4566be"
      },
      "outputs": [],
      "source": [
        "def lr_warmup_cosine_decay(global_step,\n",
        "                           warmup_steps,\n",
        "                           hold = 0,\n",
        "                           total_steps=0,\n",
        "                           start_lr=0.0,\n",
        "                           target_lr=1e-3):\n",
        "    # Cosine decay\n",
        "    learning_rate = 0.5 * target_lr * (1 + np.cos(np.pi * (global_step - warmup_steps - hold) / float(total_steps - warmup_steps - hold)))\n",
        "\n",
        "    # Target LR * progress of warmup (=1 at the final warmup step)\n",
        "    warmup_lr = target_lr * (global_step / warmup_steps)\n",
        "\n",
        "    # Choose between `warmup_lr`, `target_lr` and `learning_rate` based on whether `global_step < warmup_steps` and we're still holding.\n",
        "    # i.e. warm up if we're still warming up and use cosine decayed lr otherwise\n",
        "    if hold > 0:\n",
        "        learning_rate = np.where(global_step > warmup_steps + hold,\n",
        "                                 learning_rate, target_lr)\n",
        "\n",
        "    learning_rate = np.where(global_step < warmup_steps, warmup_lr, learning_rate)\n",
        "    return learning_rate"
      ]
    },
    {
      "cell_type": "code",
      "execution_count": 15,
      "id": "a19d015f",
      "metadata": {
        "id": "a19d015f"
      },
      "outputs": [],
      "source": [
        "from tensorflow.keras import backend as K\n",
        "\n",
        "class WarmupCosineDecay(tf.keras.callbacks.Callback):\n",
        "    def __init__(self, total_steps=0, warmup_steps=0, start_lr=0.0001, target_lr=1e-3, hold=0):\n",
        "\n",
        "        super(WarmupCosineDecay, self).__init__()\n",
        "        self.start_lr = start_lr\n",
        "        self.hold = hold\n",
        "        self.total_steps = total_steps\n",
        "        self.global_step = 1\n",
        "        self.target_lr = target_lr\n",
        "        self.warmup_steps = warmup_steps\n",
        "        self.lrs = []\n",
        "\n",
        "    def on_epoch_end(self, epoch, logs=None):\n",
        "        self.global_step = self.global_step + 1\n",
        "        lr = self.model.optimizer.lr.numpy()\n",
        "        self.lrs.append(lr)\n",
        "\n",
        "    def on_epoch_begin(self, epoch, logs=None):\n",
        "        lr = lr_warmup_cosine_decay(global_step=self.global_step,\n",
        "                                    total_steps=self.total_steps,\n",
        "                                    warmup_steps=self.warmup_steps,\n",
        "                                    start_lr=self.start_lr,\n",
        "                                    target_lr=self.target_lr,\n",
        "                                    hold=self.hold)\n",
        "        print(f\"Learining rate is {lr}\")\n",
        "        K.set_value(self.model.optimizer.lr, lr)"
      ]
    },
    {
      "cell_type": "code",
      "execution_count": 16,
      "id": "c052833a",
      "metadata": {
        "id": "c052833a"
      },
      "outputs": [],
      "source": [
        "# If already batched\n",
        "total_steps = 100\n",
        "# If not batched\n",
        "#total_steps = len(train_set)/config['BATCH_SIZE']*config['EPOCHS']\n",
        "# 5% of the steps\n",
        "warmup_steps = 10\n",
        "\n",
        "callback = WarmupCosineDecay(total_steps=total_steps,\n",
        "                             warmup_steps=warmup_steps,\n",
        "                             hold=int(warmup_steps/2),\n",
        "                             start_lr=0.0001,\n",
        "                             target_lr=0.001)"
      ]
    },
    {
      "cell_type": "code",
      "execution_count": 17,
      "id": "b2f05e6e",
      "metadata": {
        "id": "b2f05e6e"
      },
      "outputs": [],
      "source": [
        "vitClassifier = ViT(num_classes=10, patch_size=16, num_of_patches=196,\n",
        "                d_model=192, heads=3, num_layers=4,\n",
        "                mlp_rate=4,dropout_rate=0.1)"
      ]
    },
    {
      "cell_type": "code",
      "execution_count": 18,
      "id": "ae703059",
      "metadata": {
        "colab": {
          "base_uri": "https://localhost:8080/"
        },
        "id": "ae703059",
        "outputId": "a759b42c-5a9f-4377-9feb-8cc14b65c1a6"
      },
      "outputs": [
        {
          "output_type": "execute_result",
          "data": {
            "text/plain": [
              "(32, 32, 32, 3)"
            ]
          },
          "metadata": {},
          "execution_count": 18
        }
      ],
      "source": [
        "next(iter(train_generator))[0].shape"
      ]
    },
    {
      "cell_type": "code",
      "execution_count": 19,
      "id": "7880b86d",
      "metadata": {
        "id": "7880b86d"
      },
      "outputs": [],
      "source": [
        "def build_model():\n",
        "    inputs = Input(shape=(32,32,3))\n",
        "    x = tf.keras.layers.Lambda(lambda image: tf.image.resize(image,(224,224)))(inputs)\n",
        "    y = vitClassifier(x)\n",
        "\n",
        "    return Model(inputs=inputs,outputs=y)\n"
      ]
    },
    {
      "cell_type": "code",
      "execution_count": 20,
      "id": "a981e1a6",
      "metadata": {
        "id": "a981e1a6"
      },
      "outputs": [],
      "source": [
        "vit = build_model()"
      ]
    },
    {
      "cell_type": "code",
      "execution_count": 21,
      "id": "98734364",
      "metadata": {
        "colab": {
          "base_uri": "https://localhost:8080/"
        },
        "id": "98734364",
        "outputId": "812b0867-5533-42e5-c60f-8d552292bec1"
      },
      "outputs": [
        {
          "output_type": "stream",
          "name": "stdout",
          "text": [
            "Model: \"model\"\n",
            "_________________________________________________________________\n",
            " Layer (type)                Output Shape              Param #   \n",
            "=================================================================\n",
            " input_1 (InputLayer)        [(None, 32, 32, 3)]       0         \n",
            "                                                                 \n",
            " lambda (Lambda)             (None, 224, 224, 3)       0         \n",
            "                                                                 \n",
            " vi_t (ViT)                  (None, 10)                2121034   \n",
            "                                                                 \n",
            "=================================================================\n",
            "Total params: 2,121,034\n",
            "Trainable params: 2,121,034\n",
            "Non-trainable params: 0\n",
            "_________________________________________________________________\n"
          ]
        },
        {
          "output_type": "stream",
          "name": "stderr",
          "text": [
            "WARNING:absl:`lr` is deprecated in Keras optimizer, please use `learning_rate` or use the legacy optimizer, e.g.,tf.keras.optimizers.legacy.Adam.\n"
          ]
        }
      ],
      "source": [
        "vit.summary()\n",
        "vit.compile(\n",
        "    optimizer=tf.keras.optimizers.Adam(lr=0.001),\n",
        "    #optimizer = tf.keras.optimizers.SGD(lr=0.01,momentum=0.9),\n",
        "    loss=tf.keras.losses.CategoricalCrossentropy(),\n",
        "  metrics=[\n",
        "      tf.keras.metrics.CategoricalAccuracy(name=\"accuracy\")\n",
        "  ],\n",
        ")"
      ]
    },
    {
      "cell_type": "code",
      "execution_count": 22,
      "id": "3786ca1b",
      "metadata": {
        "colab": {
          "base_uri": "https://localhost:8080/"
        },
        "id": "3786ca1b",
        "outputId": "aeb221e1-b0d4-40fb-f0a0-ad91ce6df98a",
        "scrolled": true
      },
      "outputs": [
        {
          "output_type": "stream",
          "name": "stdout",
          "text": [
            "Learining rate is 0.0001\n",
            "Epoch 1/100\n",
            "1407/1407 [==============================] - 137s 83ms/step - loss: 1.9148 - accuracy: 0.2759 - val_loss: 1.7287 - val_accuracy: 0.3664\n",
            "Learining rate is 0.0002\n",
            "Epoch 2/100\n",
            "1407/1407 [==============================] - 113s 81ms/step - loss: 1.7041 - accuracy: 0.3684 - val_loss: 1.5816 - val_accuracy: 0.4118\n",
            "Learining rate is 0.0003\n",
            "Epoch 3/100\n",
            "1407/1407 [==============================] - 115s 81ms/step - loss: 1.6106 - accuracy: 0.4098 - val_loss: 1.6152 - val_accuracy: 0.4196\n",
            "Learining rate is 0.0004\n",
            "Epoch 4/100\n",
            "1407/1407 [==============================] - 113s 80ms/step - loss: 1.5430 - accuracy: 0.4362 - val_loss: 1.4481 - val_accuracy: 0.4634\n",
            "Learining rate is 0.0005\n",
            "Epoch 5/100\n",
            "1407/1407 [==============================] - 115s 82ms/step - loss: 1.5189 - accuracy: 0.4459 - val_loss: 1.3873 - val_accuracy: 0.4950\n",
            "Learining rate is 0.0006\n",
            "Epoch 6/100\n",
            "1407/1407 [==============================] - 113s 80ms/step - loss: 1.4846 - accuracy: 0.4611 - val_loss: 1.3117 - val_accuracy: 0.5126\n",
            "Learining rate is 0.0007\n",
            "Epoch 7/100\n",
            "1407/1407 [==============================] - 114s 81ms/step - loss: 1.4627 - accuracy: 0.4686 - val_loss: 1.3255 - val_accuracy: 0.5178\n",
            "Learining rate is 0.0008\n",
            "Epoch 8/100\n",
            "1407/1407 [==============================] - 115s 82ms/step - loss: 1.4587 - accuracy: 0.4761 - val_loss: 1.3254 - val_accuracy: 0.5278\n",
            "Learining rate is 0.0009000000000000001\n",
            "Epoch 9/100\n",
            "1407/1407 [==============================] - 115s 82ms/step - loss: 1.4435 - accuracy: 0.4776 - val_loss: 1.4106 - val_accuracy: 0.4814\n",
            "Learining rate is 0.001\n",
            "Epoch 10/100\n",
            "1407/1407 [==============================] - 114s 81ms/step - loss: 1.4441 - accuracy: 0.4800 - val_loss: 1.2409 - val_accuracy: 0.5396\n",
            "Learining rate is 0.001\n",
            "Epoch 11/100\n",
            "1407/1407 [==============================] - 116s 82ms/step - loss: 1.4031 - accuracy: 0.4956 - val_loss: 1.2842 - val_accuracy: 0.5352\n",
            "Learining rate is 0.001\n",
            "Epoch 12/100\n",
            "1407/1407 [==============================] - 114s 81ms/step - loss: 1.3738 - accuracy: 0.5046 - val_loss: 1.2686 - val_accuracy: 0.5454\n",
            "Learining rate is 0.001\n",
            "Epoch 13/100\n",
            "1407/1407 [==============================] - 116s 82ms/step - loss: 1.3458 - accuracy: 0.5147 - val_loss: 1.2855 - val_accuracy: 0.5436\n",
            "Learining rate is 0.001\n",
            "Epoch 14/100\n",
            "1407/1407 [==============================] - 114s 81ms/step - loss: 1.3263 - accuracy: 0.5228 - val_loss: 1.1911 - val_accuracy: 0.5686\n",
            "Learining rate is 0.001\n",
            "Epoch 15/100\n",
            "1407/1407 [==============================] - 115s 81ms/step - loss: 1.2959 - accuracy: 0.5381 - val_loss: 1.1451 - val_accuracy: 0.5840\n",
            "Learining rate is 0.0009996585300715115\n",
            "Epoch 16/100\n",
            "1407/1407 [==============================] - 115s 81ms/step - loss: 1.2778 - accuracy: 0.5481 - val_loss: 1.2077 - val_accuracy: 0.5704\n",
            "Learining rate is 0.0009986345866928941\n",
            "Epoch 17/100\n",
            "1407/1407 [==============================] - 113s 81ms/step - loss: 1.2495 - accuracy: 0.5562 - val_loss: 1.1130 - val_accuracy: 0.5960\n",
            "Learining rate is 0.000996929568447637\n",
            "Epoch 18/100\n",
            "1407/1407 [==============================] - 115s 81ms/step - loss: 1.2370 - accuracy: 0.5611 - val_loss: 1.1169 - val_accuracy: 0.6018\n",
            "Learining rate is 0.000994545804185573\n",
            "Epoch 19/100\n",
            "1407/1407 [==============================] - 114s 81ms/step - loss: 1.2095 - accuracy: 0.5727 - val_loss: 1.0766 - val_accuracy: 0.6188\n",
            "Learining rate is 0.000991486549841951\n",
            "Epoch 20/100\n",
            "1407/1407 [==============================] - 114s 81ms/step - loss: 1.1916 - accuracy: 0.5800 - val_loss: 1.1496 - val_accuracy: 0.5966\n",
            "Learining rate is 0.0009877559839902184\n",
            "Epoch 21/100\n",
            "1407/1407 [==============================] - 118s 84ms/step - loss: 1.1764 - accuracy: 0.5850 - val_loss: 1.0760 - val_accuracy: 0.6206\n",
            "Learining rate is 0.0009833592021345938\n",
            "Epoch 22/100\n",
            "1407/1407 [==============================] - 116s 82ms/step - loss: 1.1588 - accuracy: 0.5920 - val_loss: 1.1063 - val_accuracy: 0.6174\n",
            "Learining rate is 0.0009783022097502204\n",
            "Epoch 23/100\n",
            "1407/1407 [==============================] - 114s 81ms/step - loss: 1.1413 - accuracy: 0.5977 - val_loss: 1.0776 - val_accuracy: 0.6188\n",
            "Learining rate is 0.0009725919140804099\n",
            "Epoch 24/100\n",
            "1407/1407 [==============================] - 115s 81ms/step - loss: 1.1215 - accuracy: 0.6048 - val_loss: 1.0068 - val_accuracy: 0.6448\n",
            "Learining rate is 0.0009662361147021779\n",
            "Epoch 25/100\n",
            "1407/1407 [==============================] - 115s 82ms/step - loss: 1.1013 - accuracy: 0.6140 - val_loss: 1.0484 - val_accuracy: 0.6428\n",
            "Learining rate is 0.0009592434928729616\n",
            "Epoch 26/100\n",
            "1407/1407 [==============================] - 115s 81ms/step - loss: 1.0848 - accuracy: 0.6185 - val_loss: 1.0545 - val_accuracy: 0.6372\n",
            "Learining rate is 0.0009516235996730644\n",
            "Epoch 27/100\n",
            "1407/1407 [==============================] - 115s 81ms/step - loss: 1.0643 - accuracy: 0.6267 - val_loss: 1.0173 - val_accuracy: 0.6520\n",
            "Learining rate is 0.0009433868429600309\n",
            "Epoch 28/100\n",
            "1407/1407 [==============================] - 115s 82ms/step - loss: 1.0501 - accuracy: 0.6340 - val_loss: 1.0003 - val_accuracy: 0.6470\n",
            "Learining rate is 0.0009345444731527642\n",
            "Epoch 29/100\n",
            "1407/1407 [==============================] - 116s 82ms/step - loss: 1.0414 - accuracy: 0.6353 - val_loss: 0.9156 - val_accuracy: 0.6744\n",
            "Learining rate is 0.0009251085678648072\n",
            "Epoch 30/100\n",
            "1407/1407 [==============================] - 115s 82ms/step - loss: 1.0210 - accuracy: 0.6431 - val_loss: 0.9667 - val_accuracy: 0.6684\n",
            "Learining rate is 0.0009150920154077753\n",
            "Epoch 31/100\n",
            "1407/1407 [==============================] - 114s 81ms/step - loss: 1.0101 - accuracy: 0.6457 - val_loss: 0.9278 - val_accuracy: 0.6648\n",
            "Learining rate is 0.0009045084971874737\n",
            "Epoch 32/100\n",
            "1407/1407 [==============================] - 113s 80ms/step - loss: 0.9885 - accuracy: 0.6564 - val_loss: 0.9677 - val_accuracy: 0.6628\n",
            "Learining rate is 0.0008933724690167416\n",
            "Epoch 33/100\n",
            "1407/1407 [==============================] - 115s 82ms/step - loss: 0.9758 - accuracy: 0.6579 - val_loss: 1.0029 - val_accuracy: 0.6612\n",
            "Learining rate is 0.0008816991413705516\n",
            "Epoch 34/100\n",
            "1407/1407 [==============================] - 115s 82ms/step - loss: 0.9588 - accuracy: 0.6639 - val_loss: 0.9110 - val_accuracy: 0.6856\n",
            "Learining rate is 0.0008695044586103295\n",
            "Epoch 35/100\n",
            "1407/1407 [==============================] - 115s 82ms/step - loss: 0.9494 - accuracy: 0.6716 - val_loss: 0.9474 - val_accuracy: 0.6826\n",
            "Learining rate is 0.0008568050772058762\n",
            "Epoch 36/100\n",
            "1407/1407 [==============================] - 114s 81ms/step - loss: 0.9275 - accuracy: 0.6785 - val_loss: 0.8706 - val_accuracy: 0.7012\n",
            "Learining rate is 0.0008436183429846313\n",
            "Epoch 37/100\n",
            "1407/1407 [==============================] - 114s 81ms/step - loss: 0.9189 - accuracy: 0.6818 - val_loss: 0.8886 - val_accuracy: 0.6940\n",
            "Learining rate is 0.0008299622674393614\n",
            "Epoch 38/100\n",
            "1407/1407 [==============================] - 114s 81ms/step - loss: 0.9024 - accuracy: 0.6862 - val_loss: 0.8805 - val_accuracy: 0.6862\n",
            "Learining rate is 0.0008158555031266255\n",
            "Epoch 39/100\n",
            "1407/1407 [==============================] - 115s 82ms/step - loss: 0.8918 - accuracy: 0.6916 - val_loss: 0.8926 - val_accuracy: 0.7018\n",
            "Learining rate is 0.0008013173181896282\n",
            "Epoch 40/100\n",
            "1407/1407 [==============================] - 114s 81ms/step - loss: 0.8766 - accuracy: 0.6946 - val_loss: 0.8421 - val_accuracy: 0.6958\n",
            "Learining rate is 0.0007863675700402526\n",
            "Epoch 41/100\n",
            "1407/1407 [==============================] - 114s 81ms/step - loss: 0.8666 - accuracy: 0.7012 - val_loss: 0.8295 - val_accuracy: 0.7100\n",
            "Learining rate is 0.0007710266782362247\n",
            "Epoch 42/100\n",
            "1407/1407 [==============================] - 114s 81ms/step - loss: 0.8500 - accuracy: 0.7067 - val_loss: 0.8364 - val_accuracy: 0.7190\n",
            "Learining rate is 0.0007553155965904535\n",
            "Epoch 43/100\n",
            "1407/1407 [==============================] - 115s 81ms/step - loss: 0.8419 - accuracy: 0.7091 - val_loss: 0.7582 - val_accuracy: 0.7358\n",
            "Learining rate is 0.0007392557845506433\n",
            "Epoch 44/100\n",
            "1407/1407 [==============================] - 114s 81ms/step - loss: 0.8245 - accuracy: 0.7154 - val_loss: 0.7909 - val_accuracy: 0.7344\n",
            "Learining rate is 0.0007228691778882692\n",
            "Epoch 45/100\n",
            "1407/1407 [==============================] - 114s 81ms/step - loss: 0.8121 - accuracy: 0.7214 - val_loss: 0.8883 - val_accuracy: 0.7042\n",
            "Learining rate is 0.0007061781587369518\n",
            "Epoch 46/100\n",
            "1407/1407 [==============================] - 114s 81ms/step - loss: 0.7938 - accuracy: 0.7253 - val_loss: 0.8250 - val_accuracy: 0.7306\n",
            "Learining rate is 0.0006892055250211552\n",
            "Epoch 47/100\n",
            "1407/1407 [==============================] - 114s 81ms/step - loss: 0.7830 - accuracy: 0.7284 - val_loss: 0.8713 - val_accuracy: 0.7174\n",
            "Learining rate is 0.0006719744593169641\n",
            "Epoch 48/100\n",
            "1407/1407 [==============================] - 114s 81ms/step - loss: 0.7648 - accuracy: 0.7364 - val_loss: 0.8208 - val_accuracy: 0.7216\n",
            "Learining rate is 0.0006545084971874737\n",
            "Epoch 49/100\n",
            "1407/1407 [==============================] - 114s 81ms/step - loss: 0.7618 - accuracy: 0.7337 - val_loss: 0.7999 - val_accuracy: 0.7328\n",
            "Learining rate is 0.0006368314950360416\n",
            "Epoch 50/100\n",
            "1407/1407 [==============================] - 113s 80ms/step - loss: 0.7450 - accuracy: 0.7435 - val_loss: 0.7572 - val_accuracy: 0.7502\n",
            "Learining rate is 0.0006189675975213093\n",
            "Epoch 51/100\n",
            "1407/1407 [==============================] - 114s 81ms/step - loss: 0.7367 - accuracy: 0.7432 - val_loss: 0.8125 - val_accuracy: 0.7342\n",
            "Learining rate is 0.0006009412045785051\n",
            "Epoch 52/100\n",
            "1407/1407 [==============================] - 114s 81ms/step - loss: 0.7226 - accuracy: 0.7490 - val_loss: 0.7674 - val_accuracy: 0.7420\n",
            "Learining rate is 0.000582776938092065\n",
            "Epoch 53/100\n",
            "1407/1407 [==============================] - 114s 81ms/step - loss: 0.7074 - accuracy: 0.7548 - val_loss: 0.7168 - val_accuracy: 0.7622\n",
            "Learining rate is 0.0005644996082651017\n",
            "Epoch 54/100\n",
            "1407/1407 [==============================] - 113s 80ms/step - loss: 0.6931 - accuracy: 0.7592 - val_loss: 0.7913 - val_accuracy: 0.7404\n",
            "Learining rate is 0.000546134179731651\n",
            "Epoch 55/100\n",
            "1407/1407 [==============================] - 116s 82ms/step - loss: 0.6862 - accuracy: 0.7620 - val_loss: 0.8003 - val_accuracy: 0.7362\n",
            "Learining rate is 0.000527705737457985\n",
            "Epoch 56/100\n",
            "1407/1407 [==============================] - 114s 81ms/step - loss: 0.6771 - accuracy: 0.7669 - val_loss: 0.7684 - val_accuracy: 0.7504\n",
            "Learining rate is 0.000509239452479565\n",
            "Epoch 57/100\n",
            "1407/1407 [==============================] - 115s 81ms/step - loss: 0.6660 - accuracy: 0.7711 - val_loss: 0.7330 - val_accuracy: 0.7592\n",
            "Learining rate is 0.0004907605475204352\n",
            "Epoch 58/100\n",
            "1407/1407 [==============================] - 113s 80ms/step - loss: 0.6506 - accuracy: 0.7766 - val_loss: 0.7383 - val_accuracy: 0.7542\n",
            "Learining rate is 0.00047229426254201515\n",
            "Epoch 59/100\n",
            "1407/1407 [==============================] - 114s 81ms/step - loss: 0.6418 - accuracy: 0.7776 - val_loss: 0.7734 - val_accuracy: 0.7570\n",
            "Learining rate is 0.00045386582026834903\n",
            "Epoch 60/100\n",
            "1407/1407 [==============================] - 115s 81ms/step - loss: 0.6289 - accuracy: 0.7834 - val_loss: 0.7188 - val_accuracy: 0.7666\n",
            "Learining rate is 0.0004355003917348985\n",
            "Epoch 61/100\n",
            "1407/1407 [==============================] - 115s 82ms/step - loss: 0.6205 - accuracy: 0.7850 - val_loss: 0.8288 - val_accuracy: 0.7446\n",
            "Learining rate is 0.000417223061907935\n",
            "Epoch 62/100\n",
            "1407/1407 [==============================] - 115s 81ms/step - loss: 0.6096 - accuracy: 0.7908 - val_loss: 0.6890 - val_accuracy: 0.7742\n",
            "Learining rate is 0.0003990587954214949\n",
            "Epoch 63/100\n",
            "1407/1407 [==============================] - 115s 82ms/step - loss: 0.5940 - accuracy: 0.7950 - val_loss: 0.7012 - val_accuracy: 0.7700\n",
            "Learining rate is 0.00038103240247869074\n",
            "Epoch 64/100\n",
            "1407/1407 [==============================] - 114s 81ms/step - loss: 0.5844 - accuracy: 0.7992 - val_loss: 0.6828 - val_accuracy: 0.7680\n",
            "Learining rate is 0.0003631685049639586\n",
            "Epoch 65/100\n",
            "1407/1407 [==============================] - 114s 81ms/step - loss: 0.5715 - accuracy: 0.8031 - val_loss: 0.6930 - val_accuracy: 0.7720\n",
            "Learining rate is 0.00034549150281252633\n",
            "Epoch 66/100\n",
            "1407/1407 [==============================] - 115s 81ms/step - loss: 0.5645 - accuracy: 0.8058 - val_loss: 0.6824 - val_accuracy: 0.7822\n",
            "Learining rate is 0.0003280255406830359\n",
            "Epoch 67/100\n",
            "1407/1407 [==============================] - 114s 81ms/step - loss: 0.5531 - accuracy: 0.8085 - val_loss: 0.7380 - val_accuracy: 0.7752\n",
            "Learining rate is 0.00031079447497884486\n",
            "Epoch 68/100\n",
            "1407/1407 [==============================] - 114s 81ms/step - loss: 0.5440 - accuracy: 0.8114 - val_loss: 0.6868 - val_accuracy: 0.7776\n",
            "Learining rate is 0.00029382184126304836\n",
            "Epoch 69/100\n",
            "1407/1407 [==============================] - 113s 80ms/step - loss: 0.5293 - accuracy: 0.8175 - val_loss: 0.6970 - val_accuracy: 0.7808\n",
            "Learining rate is 0.0002771308221117309\n",
            "Epoch 70/100\n",
            "1407/1407 [==============================] - 114s 81ms/step - loss: 0.5190 - accuracy: 0.8195 - val_loss: 0.7137 - val_accuracy: 0.7738\n",
            "Learining rate is 0.0002607442154493568\n",
            "Epoch 71/100\n",
            "1407/1407 [==============================] - 115s 82ms/step - loss: 0.5133 - accuracy: 0.8222 - val_loss: 0.6911 - val_accuracy: 0.7806\n",
            "Learining rate is 0.0002446844034095466\n",
            "Epoch 72/100\n",
            "1407/1407 [==============================] - 115s 82ms/step - loss: 0.5088 - accuracy: 0.8252 - val_loss: 0.7121 - val_accuracy: 0.7734\n",
            "Learining rate is 0.00022897332176377528\n",
            "Epoch 73/100\n",
            "1407/1407 [==============================] - 114s 81ms/step - loss: 0.4953 - accuracy: 0.8294 - val_loss: 0.6936 - val_accuracy: 0.7850\n",
            "Learining rate is 0.00021363242995974742\n",
            "Epoch 74/100\n",
            "1407/1407 [==============================] - 115s 82ms/step - loss: 0.4849 - accuracy: 0.8329 - val_loss: 0.7344 - val_accuracy: 0.7738\n",
            "Learining rate is 0.00019868268181037185\n",
            "Epoch 75/100\n",
            "1407/1407 [==============================] - 116s 83ms/step - loss: 0.4721 - accuracy: 0.8364 - val_loss: 0.7353 - val_accuracy: 0.7772\n",
            "Learining rate is 0.00018414449687337466\n",
            "Epoch 76/100\n",
            "1407/1407 [==============================] - 116s 82ms/step - loss: 0.4708 - accuracy: 0.8363 - val_loss: 0.7139 - val_accuracy: 0.7776\n",
            "Learining rate is 0.0001700377325606388\n",
            "Epoch 77/100\n",
            "1407/1407 [==============================] - 115s 81ms/step - loss: 0.4589 - accuracy: 0.8403 - val_loss: 0.7014 - val_accuracy: 0.7894\n",
            "Learining rate is 0.00015638165701536866\n",
            "Epoch 78/100\n",
            "1407/1407 [==============================] - 115s 82ms/step - loss: 0.4536 - accuracy: 0.8432 - val_loss: 0.6996 - val_accuracy: 0.7870\n",
            "Learining rate is 0.00014319492279412388\n",
            "Epoch 79/100\n",
            "1407/1407 [==============================] - 113s 80ms/step - loss: 0.4418 - accuracy: 0.8487 - val_loss: 0.7020 - val_accuracy: 0.7918\n",
            "Learining rate is 0.0001304955413896705\n",
            "Epoch 80/100\n",
            "1407/1407 [==============================] - 115s 82ms/step - loss: 0.4358 - accuracy: 0.8492 - val_loss: 0.7332 - val_accuracy: 0.7876\n",
            "Learining rate is 0.00011830085862944851\n",
            "Epoch 81/100\n",
            "1407/1407 [==============================] - 114s 81ms/step - loss: 0.4250 - accuracy: 0.8532 - val_loss: 0.6951 - val_accuracy: 0.7946\n",
            "Learining rate is 0.00010662753098325839\n",
            "Epoch 82/100\n",
            "1407/1407 [==============================] - 115s 82ms/step - loss: 0.4156 - accuracy: 0.8537 - val_loss: 0.7132 - val_accuracy: 0.7908\n",
            "Learining rate is 9.549150281252633e-05\n",
            "Epoch 83/100\n",
            "1407/1407 [==============================] - 115s 82ms/step - loss: 0.4096 - accuracy: 0.8585 - val_loss: 0.6900 - val_accuracy: 0.7962\n",
            "Learining rate is 8.490798459222476e-05\n",
            "Epoch 84/100\n",
            "1407/1407 [==============================] - 115s 82ms/step - loss: 0.4077 - accuracy: 0.8584 - val_loss: 0.6908 - val_accuracy: 0.7944\n",
            "Learining rate is 7.489143213519301e-05\n",
            "Epoch 85/100\n",
            "1407/1407 [==============================] - 115s 82ms/step - loss: 0.4029 - accuracy: 0.8611 - val_loss: 0.7088 - val_accuracy: 0.7880\n",
            "Learining rate is 6.545552684723583e-05\n",
            "Epoch 86/100\n",
            "1407/1407 [==============================] - 114s 81ms/step - loss: 0.3979 - accuracy: 0.8628 - val_loss: 0.7127 - val_accuracy: 0.7948\n",
            "Learining rate is 5.6613157039969057e-05\n",
            "Epoch 87/100\n",
            "1407/1407 [==============================] - 116s 82ms/step - loss: 0.3934 - accuracy: 0.8644 - val_loss: 0.7085 - val_accuracy: 0.7938\n",
            "Learining rate is 4.8376400326935575e-05\n",
            "Epoch 88/100\n",
            "1407/1407 [==============================] - 115s 81ms/step - loss: 0.3927 - accuracy: 0.8646 - val_loss: 0.6804 - val_accuracy: 0.8012\n",
            "Learining rate is 4.075650712703849e-05\n",
            "Epoch 89/100\n",
            "1407/1407 [==============================] - 116s 82ms/step - loss: 0.3838 - accuracy: 0.8649 - val_loss: 0.6917 - val_accuracy: 0.7986\n",
            "Learining rate is 3.376388529782209e-05\n",
            "Epoch 90/100\n",
            "1407/1407 [==============================] - 114s 81ms/step - loss: 0.3828 - accuracy: 0.8667 - val_loss: 0.6871 - val_accuracy: 0.7972\n",
            "Learining rate is 2.7408085919590266e-05\n",
            "Epoch 91/100\n",
            "1407/1407 [==============================] - 116s 82ms/step - loss: 0.3789 - accuracy: 0.8710 - val_loss: 0.7078 - val_accuracy: 0.7944\n",
            "Learining rate is 2.1697790249779635e-05\n",
            "Epoch 92/100\n",
            "1407/1407 [==============================] - 116s 82ms/step - loss: 0.3795 - accuracy: 0.8715 - val_loss: 0.6910 - val_accuracy: 0.7984\n",
            "Learining rate is 1.6640797865406288e-05\n",
            "Epoch 93/100\n",
            "1407/1407 [==============================] - 115s 82ms/step - loss: 0.3764 - accuracy: 0.8703 - val_loss: 0.7039 - val_accuracy: 0.7952\n",
            "Learining rate is 1.22440160097817e-05\n",
            "Epoch 94/100\n",
            "1407/1407 [==============================] - 115s 82ms/step - loss: 0.3680 - accuracy: 0.8717 - val_loss: 0.7001 - val_accuracy: 0.7978\n",
            "Learining rate is 8.513450158049108e-06\n",
            "Epoch 95/100\n",
            "1407/1407 [==============================] - 116s 82ms/step - loss: 0.3625 - accuracy: 0.8744 - val_loss: 0.7066 - val_accuracy: 0.7984\n",
            "Learining rate is 5.454195814427021e-06\n",
            "Epoch 96/100\n",
            "1407/1407 [==============================] - 115s 82ms/step - loss: 0.3641 - accuracy: 0.8730 - val_loss: 0.7063 - val_accuracy: 0.7968\n",
            "Learining rate is 3.0704315523631954e-06\n",
            "Epoch 97/100\n",
            "1407/1407 [==============================] - 116s 82ms/step - loss: 0.3630 - accuracy: 0.8760 - val_loss: 0.7048 - val_accuracy: 0.7984\n",
            "Learining rate is 1.3654133071059894e-06\n",
            "Epoch 98/100\n",
            "1407/1407 [==============================] - 116s 82ms/step - loss: 0.3616 - accuracy: 0.8749 - val_loss: 0.7063 - val_accuracy: 0.7974\n",
            "Learining rate is 3.4146992848854695e-07\n",
            "Epoch 99/100\n",
            "1407/1407 [==============================] - 115s 82ms/step - loss: 0.3628 - accuracy: 0.8758 - val_loss: 0.7066 - val_accuracy: 0.7966\n",
            "Learining rate is 0.0\n",
            "Epoch 100/100\n",
            "1407/1407 [==============================] - 115s 82ms/step - loss: 0.3598 - accuracy: 0.8755 - val_loss: 0.7066 - val_accuracy: 0.7966\n"
          ]
        }
      ],
      "source": [
        "history = vit.fit(train_generator,\n",
        "                    epochs=100,\n",
        "                    validation_data=(X_valid, y_valid),\n",
        "                    callbacks=[callback]\n",
        "                   )\n",
        "#print(\"\\nTest Accuracy: \", accuracy_score(np.argmax(test_label, axis=1), np.argmax(model.predict(test_data), axis=1)))"
      ]
    },
    {
      "cell_type": "code",
      "execution_count": 23,
      "id": "0f29eb0b",
      "metadata": {
        "id": "0f29eb0b"
      },
      "outputs": [],
      "source": [
        "# save the model !!!"
      ]
    },
    {
      "cell_type": "code",
      "execution_count": 24,
      "id": "b47b9d54",
      "metadata": {
        "colab": {
          "base_uri": "https://localhost:8080/",
          "height": 927
        },
        "id": "b47b9d54",
        "outputId": "3bf8c507-a431-4dcf-e6be-d0a99a3d8036",
        "scrolled": true
      },
      "outputs": [
        {
          "output_type": "display_data",
          "data": {
            "text/plain": [
              "<Figure size 640x480 with 1 Axes>"
            ],
            "image/png": "[encoded data removed]"
          },
          "metadata": {}
        },
        {
          "output_type": "display_data",
          "data": {
            "text/plain": [
              "<Figure size 640x480 with 1 Axes>"
            ],
            "image/png": "[encoded data removed]"
          },
          "metadata": {}
        }
      ],
      "source": [
        "# summarize history for accuracy\n",
        "plt.plot(history.history['accuracy'])\n",
        "plt.plot(history.history['val_accuracy'])\n",
        "plt.title('model accuracy')\n",
        "plt.ylabel('accuracy')\n",
        "plt.xlabel('epoch')\n",
        "plt.legend(['train', 'test'], loc='upper left')\n",
        "plt.show()\n",
        "# summarize history for loss\n",
        "plt.plot(history.history['loss'])\n",
        "plt.plot(history.history['val_loss'])\n",
        "plt.title('model loss')\n",
        "plt.ylabel('loss')\n",
        "plt.xlabel('epoch')\n",
        "plt.legend(['train', 'test'], loc='upper left')\n",
        "plt.show()"
      ]
    },
    {
      "cell_type": "code",
      "execution_count": 25,
      "id": "e40f373a",
      "metadata": {
        "colab": {
          "base_uri": "https://localhost:8080/"
        },
        "id": "e40f373a",
        "outputId": "c3e6c7d9-2a0c-4c42-d3bf-f2b5c5f26a1c"
      },
      "outputs": [
        {
          "output_type": "stream",
          "name": "stdout",
          "text": [
            "313/313 [==============================] - 9s 28ms/step - loss: 0.7641 - accuracy: 0.7798\n",
            "test loss, test acc: [0.7640506625175476, 0.7797999978065491]\n"
          ]
        }
      ],
      "source": [
        "results = vit.evaluate(test_data,test_label, batch_size=32, verbose=1)\n",
        "print(\"test loss, test acc:\", results)"
      ]
    },
    {
      "cell_type": "code",
      "execution_count": 25,
      "id": "dda5569a",
      "metadata": {
        "id": "dda5569a"
      },
      "outputs": [],
      "source": []
    }
  ],
  "metadata": {
    "accelerator": "GPU",
    "colab": {
      "gpuType": "T4",
      "provenance": []
    },
    "kernelspec": {
      "display_name": "Python 3 (ipykernel)",
      "language": "python",
      "name": "python3"
    },
    "language_info": {
      "codemirror_mode": {
        "name": "ipython",
        "version": 3
      },
      "file_extension": ".py",
      "mimetype": "text/x-python",
      "name": "python",
      "nbconvert_exporter": "python",
      "pygments_lexer": "ipython3",
      "version": "3.10.0"
    }
  },
  "nbformat": 4,
  "nbformat_minor": 5
}